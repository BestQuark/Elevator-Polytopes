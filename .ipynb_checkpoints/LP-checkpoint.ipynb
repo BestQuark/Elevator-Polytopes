{
 "cells": [
  {
   "cell_type": "code",
   "execution_count": 2,
   "metadata": {},
   "outputs": [],
   "source": [
    "import numpy as np\n",
    "import matplotlib.pyplot as plt\n",
    "from scipy.optimize import linprog\n",
    "\n",
    "import warnings\n",
    "warnings.filterwarnings('ignore')"
   ]
  },
  {
   "cell_type": "code",
   "execution_count": 10,
   "metadata": {},
   "outputs": [],
   "source": [
    "c = [1, 5, 9 , 4, 1 , 5, 8, 3, 1]\n",
    "A = [[1,1,1,0,0,0,0,0,0], \n",
    "     [0,0,0,1,1,1,0,0,0], \n",
    "     [0,0,0,0,0,0,1,1,1], \n",
    "     [1,0,0,1,0,0,1,0,0],\n",
    "     [0,1,0,0,1,0,0,1,0],\n",
    "     [0,0,1,0,0,1,0,0,1]]\n",
    "b = np.ones(6)\n",
    "\n",
    "res = linprog(c, A_eq=A, b_eq=b, bounds=(0,1), method='simplex')"
   ]
  },
  {
   "cell_type": "code",
   "execution_count": 3,
   "metadata": {},
   "outputs": [
    {
     "name": "stdout",
     "output_type": "stream",
     "text": [
      "[1. 0. 0. 0. 1. 0. 0. 0. 1.]\n"
     ]
    }
   ],
   "source": [
    "print(res.x)"
   ]
  },
  {
   "cell_type": "code",
   "execution_count": 4,
   "metadata": {},
   "outputs": [],
   "source": [
    "numero_Personas = 10\n",
    "numero_Elevadores = 3\n",
    "numero_Pisos = 20"
   ]
  },
  {
   "cell_type": "markdown",
   "metadata": {},
   "source": [
    "# Aquí se define el problema LP $$ \\max\\{c^T \\vec{x}\\}$$ s.t $$A \\vec{x} \\leq b$$"
   ]
  },
  {
   "cell_type": "code",
   "execution_count": 11,
   "metadata": {},
   "outputs": [],
   "source": [
    "import numpy as np\n",
    "import matplotlib.pyplot as plt\n",
    "from scipy.optimize import linprog\n",
    "import warnings\n",
    "\n",
    "    \n",
    "    \n",
    "def printElevador(numero_Personas, numero_Elevadores, numero_Pisos, posicion_Personas, posicion_Elevadores):\n",
    "    for i in reversed(range(1,numero_Pisos+1)):\n",
    "        \n",
    "        k = len(str(i))\n",
    "\n",
    "        if (i in posicion_Personas) and (i in posicion_Elevadores):\n",
    "            print( \"|\"+'-'*14 + \"| \\n\")\n",
    "            print( \"|\"+' '*5+str(i)+' '*(6-k) +'███' +\"| \\n\")\n",
    "            print( \"|\"+' ' +'●' +' '*9 +'███' +\"| \\n\")\n",
    "            print( \"|\"+ '¬█¬'  +' '*8 +'███' +\"| \\n\")\n",
    "            print( \"|\"+ ' '+ 'n'  +' '*9 +'███' + \"| \\n\")\n",
    "                \n",
    "        elif i in posicion_Personas:\n",
    "            print( \"|\"+'-'*14 + \"| \\n\")\n",
    "            print( \"|\"+' '*5+str(i)+' '*(9-k) + \"| \\n\")\n",
    "            print( \"|\"+' ' +'●' +' '*12 + \"| \\n\")\n",
    "            print( \"|\"+ '¬█¬'  +' '*11 + \"| \\n\")\n",
    "            print( \"|\"+ ' '+ 'n'  +' '*12 + \"| \\n\")  \n",
    "            \n",
    "        elif i in posicion_Elevadores:\n",
    "            print( \"|\"+'-'*14 + \"| \\n\")\n",
    "            print( \"|\"+' '*5+str(i)+' '*(6-k) +'███' +\"| \\n\")\n",
    "            print( \"|\"+' '*11 +'███' +\"| \\n\")\n",
    "            print( \"|\"+' '*11 +'███' +\"| \\n\")\n",
    "            print( \"|\"+' '*11 +'███' + \"| \\n\")                \n",
    "                                           \n",
    "        else:\n",
    "            print( \"|\"+'-'*14 + \"| \\n\")\n",
    "            print( \"|\"+' '*5 +str(i) +' '*(9-k)+ \"| \\n\")\n",
    "            print( \"|\"+' '*14 + \"| \\n\")\n",
    "            print( \"|\"+' '*14 + \"| \\n\")\n",
    "            print( \"|\"+' '*14 + \"| \\n\")\n",
    "            \n",
    "def solElevador(numero_Personas, numero_Elevadores, numero_Pisos, posicion_Personas, posicion_Elevadores):\n",
    "    warnings.filterwarnings('ignore')\n",
    "    if numero_Personas>numero_Elevadores:\n",
    "        numero_Esperando = numero_Personas-numero_Elevadores\n",
    "        posicion_Esperando = posicion_Personas[numero_Esperando:]\n",
    "        print(\"Hay \", numero_Esperando , \" esperando a que se desocupen los ascensores.\")\n",
    "        numero_Personas = numero_Elevadores\n",
    "        posicion_Personas = posicion_Personas[:numero_Elevadores]\n",
    "       \n",
    "    l = numero_Elevadores**2\n",
    "    c = np.zeros(l)\n",
    "    for i,posP in enumerate(posicion_Personas):\n",
    "        c[numero_Elevadores*i:numero_Elevadores*(i+1)] = np.abs(posicion_Elevadores - posP)   \n",
    "    \n",
    "    A = np.zeros([2*numero_Elevadores,l])\n",
    "    for i in range(numero_Elevadores):\n",
    "        A[i, numero_Elevadores*i:numero_Elevadores*(i+1)] = np.ones(numero_Elevadores)\n",
    "        A[i+numero_Elevadores, i::numero_Elevadores] = np.ones(numero_Elevadores)\n",
    "    \n",
    "    b = np.ones(2*numero_Elevadores)\n",
    "    return linprog(c, A_eq=A, b_eq=b, bounds=(0,1), method='simplex')\n",
    "\n",
    "\n"
   ]
  },
  {
   "cell_type": "code",
   "execution_count": 12,
   "metadata": {},
   "outputs": [
    {
     "name": "stdout",
     "output_type": "stream",
     "text": [
      "Ingrese el número de elevadores: 3\n",
      "Ingrese el número de personas: 5\n",
      "Ingrese el número de pisos del edificio: 10\n",
      "|--------------| \n",
      "\n",
      "|     10       | \n",
      "\n",
      "|              | \n",
      "\n",
      "|              | \n",
      "\n",
      "|              | \n",
      "\n",
      "|--------------| \n",
      "\n",
      "|     9        | \n",
      "\n",
      "| ●            | \n",
      "\n",
      "|¬█¬           | \n",
      "\n",
      "| n            | \n",
      "\n",
      "|--------------| \n",
      "\n",
      "|     8        | \n",
      "\n",
      "|              | \n",
      "\n",
      "|              | \n",
      "\n",
      "|              | \n",
      "\n",
      "|--------------| \n",
      "\n",
      "|     7        | \n",
      "\n",
      "|              | \n",
      "\n",
      "|              | \n",
      "\n",
      "|              | \n",
      "\n",
      "|--------------| \n",
      "\n",
      "|     6        | \n",
      "\n",
      "| ●            | \n",
      "\n",
      "|¬█¬           | \n",
      "\n",
      "| n            | \n",
      "\n",
      "|--------------| \n",
      "\n",
      "|     5        | \n",
      "\n",
      "|              | \n",
      "\n",
      "|              | \n",
      "\n",
      "|              | \n",
      "\n",
      "|--------------| \n",
      "\n",
      "|     4        | \n",
      "\n",
      "|              | \n",
      "\n",
      "|              | \n",
      "\n",
      "|              | \n",
      "\n",
      "|--------------| \n",
      "\n",
      "|     3        | \n",
      "\n",
      "| ●            | \n",
      "\n",
      "|¬█¬           | \n",
      "\n",
      "| n            | \n",
      "\n",
      "|--------------| \n",
      "\n",
      "|     2     ███| \n",
      "\n",
      "| ●         ███| \n",
      "\n",
      "|¬█¬        ███| \n",
      "\n",
      "| n         ███| \n",
      "\n",
      "|--------------| \n",
      "\n",
      "|     1     ███| \n",
      "\n",
      "|           ███| \n",
      "\n",
      "|           ███| \n",
      "\n",
      "|           ███| \n",
      "\n",
      "Hay  2  esperando a que se desocupen los ascensores.\n"
     ]
    },
    {
     "name": "stderr",
     "output_type": "stream",
     "text": [
      "<ipython-input-11-f54ae2f1d2b4>:66: OptimizeWarning: A_eq does not appear to be of full row rank. To improve performance, check the problem formulation for redundant equality constraints.\n",
      "  return linprog(c, A_eq=A, b_eq=b, bounds=(0,1), method='simplex')\n"
     ]
    }
   ],
   "source": [
    "numero_Elevadores = int(input(\"Ingrese el número de elevadores: \"))\n",
    "numero_Personas = int(input(\"Ingrese el número de personas: \"))\n",
    "numero_Pisos = int(input(\"Ingrese el número de pisos del edificio: \"))\n",
    "        \n",
    "posicion_Personas = np.array([np.random.randint(0,numero_Pisos) for i in range(numero_Personas)])\n",
    "posicion_Elevadores = np.array([np.random.randint(0,numero_Pisos) for i in range(numero_Elevadores)])        \n",
    "printElevador(numero_Personas, numero_Elevadores, numero_Pisos, posicion_Personas, posicion_Elevadores)\n",
    "            \n",
    "linPsolution = solElevador(numero_Personas, numero_Elevadores, numero_Pisos, posicion_Personas, posicion_Elevadores)\n",
    "\n"
   ]
  },
  {
   "cell_type": "code",
   "execution_count": 13,
   "metadata": {},
   "outputs": [
    {
     "data": {
      "text/plain": [
       "array([1., 0., 0., 0., 1., 0., 0., 0., 1.])"
      ]
     },
     "execution_count": 13,
     "metadata": {},
     "output_type": "execute_result"
    }
   ],
   "source": [
    "linPsolution.x"
   ]
  },
  {
   "cell_type": "code",
   "execution_count": null,
   "metadata": {},
   "outputs": [],
   "source": [
    "    c = np.zeros(numero_Elevadores**2)\n",
    "    for i,posP in enumerate(posicion_Personas):\n",
    "        print(i,posP)\n",
    "        c[i:i+numero_Elevadores] = np.abs(posicion_Elevadores - posP)\n",
    "    \n",
    "    A = np.zeros([2*numero_Elevadores,2*numero_Elevadores])\n",
    "    b = np.ones(2*numero_Elevadores)\n",
    "    \n",
    "    \n",
    "    res = linprog(c, A_eq=A, b_eq=b, bounds=(0,1), method='simplex')"
   ]
  },
  {
   "cell_type": "code",
   "execution_count": null,
   "metadata": {},
   "outputs": [],
   "source": []
  }
 ],
 "metadata": {
  "kernelspec": {
   "display_name": "Python 3",
   "language": "python",
   "name": "python3"
  },
  "language_info": {
   "codemirror_mode": {
    "name": "ipython",
    "version": 3
   },
   "file_extension": ".py",
   "mimetype": "text/x-python",
   "name": "python",
   "nbconvert_exporter": "python",
   "pygments_lexer": "ipython3",
   "version": "3.8.3"
  }
 },
 "nbformat": 4,
 "nbformat_minor": 4
}
