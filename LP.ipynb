{
 "cells": [
  {
   "cell_type": "code",
   "execution_count": 2,
   "metadata": {},
   "outputs": [],
   "source": [
    "import numpy as np\n",
    "import matplotlib.pyplot as plt\n",
    "from scipy.optimize import linprog\n",
    "\n",
    "import warnings\n",
    "warnings.filterwarnings('ignore')"
   ]
  },
  {
   "cell_type": "code",
   "execution_count": 10,
   "metadata": {},
   "outputs": [],
   "source": [
    "c = [1, 5, 9 , 4, 1 , 5, 8, 3, 1]\n",
    "A = [[1,1,1,0,0,0,0,0,0], \n",
    "     [0,0,0,1,1,1,0,0,0], \n",
    "     [0,0,0,0,0,0,1,1,1], \n",
    "     [1,0,0,1,0,0,1,0,0],\n",
    "     [0,1,0,0,1,0,0,1,0],\n",
    "     [0,0,1,0,0,1,0,0,1]]\n",
    "b = np.ones(6)\n",
    "\n",
    "res = linprog(c, A_eq=A, b_eq=b, bounds=(0,1), method='simplex')"
   ]
  },
  {
   "cell_type": "code",
   "execution_count": 3,
   "metadata": {},
   "outputs": [
    {
     "name": "stdout",
     "output_type": "stream",
     "text": [
      "[1. 0. 0. 0. 1. 0. 0. 0. 1.]\n"
     ]
    }
   ],
   "source": [
    "print(res.x)"
   ]
  },
  {
   "cell_type": "code",
   "execution_count": 4,
   "metadata": {},
   "outputs": [],
   "source": [
    "numero_Personas = 10\n",
    "numero_Elevadores = 3\n",
    "numero_Pisos = 20"
   ]
  },
  {
   "cell_type": "markdown",
   "metadata": {},
   "source": [
    "# Aquí se define el problema LP $$ \\max\\{c^T \\vec{x}\\}$$ s.t $$A \\vec{x} \\leq b$$"
   ]
  },
  {
   "cell_type": "code",
   "execution_count": 1,
   "metadata": {},
   "outputs": [
    {
     "name": "stdout",
     "output_type": "stream",
     "text": [
      "\n",
      "\n",
      "~~~~~~~~~~~~~~~~~~~~~~~~~~~~~~~~~~~~~~~~~~~~~\n",
      "1 - Solucionar problema del elevador\n",
      "0 - Salir\n",
      "~~~~~~~~~~~~~~~~~~~~~~~~~~~~~~~~~~~~~~~~~~~~~\n",
      "Seleccione una opción: 1\n",
      "Ingrese el número de elevadores: 3\n",
      "Ingrese el número de personas: 3\n",
      "Ingrese el número de pisos del edificio: 5\n",
      "|--------------| \n",
      "\n",
      "|     5        | \n",
      "\n",
      "|              | \n",
      "\n",
      "|              | \n",
      "\n",
      "|              | \n",
      "\n",
      "|--------------| \n",
      "\n",
      "|     4     ███| \n",
      "\n",
      "|           ███| \n",
      "\n",
      "|           ███| \n",
      "\n",
      "|           ███| \n",
      "\n",
      "|--------------| \n",
      "\n",
      "|     3        | \n",
      "\n",
      "| ●            | \n",
      "\n",
      "|¬█¬           | \n",
      "\n",
      "| n            | \n",
      "\n",
      "|--------------| \n",
      "\n",
      "|     2        | \n",
      "\n",
      "| ●            | \n",
      "\n",
      "|¬█¬           | \n",
      "\n",
      "| n            | \n",
      "\n",
      "|--------------| \n",
      "\n",
      "|     1        | \n",
      "\n",
      "|              | \n",
      "\n",
      "|              | \n",
      "\n",
      "|              | \n",
      "\n"
     ]
    },
    {
     "ename": "ValueError",
     "evalue": "Invalid input for linprog: A_eq must have exactly two dimensions, and the number of columns in A_eq must be equal to the size of c",
     "output_type": "error",
     "traceback": [
      "\u001b[1;31m---------------------------------------------------------------------------\u001b[0m",
      "\u001b[1;31mValueError\u001b[0m                                Traceback (most recent call last)",
      "\u001b[1;32m<ipython-input-1-3add6d8e02f8>\u001b[0m in \u001b[0;36m<module>\u001b[1;34m\u001b[0m\n\u001b[0;32m     78\u001b[0m         \u001b[0mprintElevador\u001b[0m\u001b[1;33m(\u001b[0m\u001b[0mnumero_Personas\u001b[0m\u001b[1;33m,\u001b[0m \u001b[0mnumero_Elevadores\u001b[0m\u001b[1;33m,\u001b[0m \u001b[0mnumero_Pisos\u001b[0m\u001b[1;33m,\u001b[0m \u001b[0mposicion_Personas\u001b[0m\u001b[1;33m,\u001b[0m \u001b[0mposicion_Elevadores\u001b[0m\u001b[1;33m)\u001b[0m\u001b[1;33m\u001b[0m\u001b[1;33m\u001b[0m\u001b[0m\n\u001b[0;32m     79\u001b[0m \u001b[1;33m\u001b[0m\u001b[0m\n\u001b[1;32m---> 80\u001b[1;33m         \u001b[0msol_Elevador\u001b[0m\u001b[1;33m(\u001b[0m\u001b[0mnumero_Personas\u001b[0m\u001b[1;33m,\u001b[0m \u001b[0mnumero_Elevadores\u001b[0m\u001b[1;33m,\u001b[0m \u001b[0mnumero_Pisos\u001b[0m\u001b[1;33m,\u001b[0m \u001b[0mposicion_Personas\u001b[0m\u001b[1;33m,\u001b[0m \u001b[0mposicion_Elevadores\u001b[0m\u001b[1;33m)\u001b[0m\u001b[1;33m\u001b[0m\u001b[1;33m\u001b[0m\u001b[0m\n\u001b[0m\u001b[0;32m     81\u001b[0m     \u001b[1;32melse\u001b[0m\u001b[1;33m:\u001b[0m\u001b[1;33m\u001b[0m\u001b[1;33m\u001b[0m\u001b[0m\n\u001b[0;32m     82\u001b[0m         \u001b[0msys\u001b[0m\u001b[1;33m.\u001b[0m\u001b[0mexit\u001b[0m\u001b[1;33m(\u001b[0m\u001b[1;36m0\u001b[0m\u001b[1;33m)\u001b[0m\u001b[1;33m\u001b[0m\u001b[1;33m\u001b[0m\u001b[0m\n",
      "\u001b[1;32m<ipython-input-1-3add6d8e02f8>\u001b[0m in \u001b[0;36msol_Elevador\u001b[1;34m(numero_Personas, numero_Elevadores, numero_Pisos, posicion_Personas, posicion_Elevadores)\u001b[0m\n\u001b[0;32m     17\u001b[0m \u001b[1;33m\u001b[0m\u001b[0m\n\u001b[0;32m     18\u001b[0m \u001b[1;33m\u001b[0m\u001b[0m\n\u001b[1;32m---> 19\u001b[1;33m     \u001b[0mres\u001b[0m \u001b[1;33m=\u001b[0m \u001b[0mlinprog\u001b[0m\u001b[1;33m(\u001b[0m\u001b[0mc\u001b[0m\u001b[1;33m,\u001b[0m \u001b[0mA_eq\u001b[0m\u001b[1;33m=\u001b[0m\u001b[0mA\u001b[0m\u001b[1;33m,\u001b[0m \u001b[0mb_eq\u001b[0m\u001b[1;33m=\u001b[0m\u001b[0mb\u001b[0m\u001b[1;33m,\u001b[0m \u001b[0mbounds\u001b[0m\u001b[1;33m=\u001b[0m\u001b[1;33m(\u001b[0m\u001b[1;36m0\u001b[0m\u001b[1;33m,\u001b[0m\u001b[1;36m1\u001b[0m\u001b[1;33m)\u001b[0m\u001b[1;33m,\u001b[0m \u001b[0mmethod\u001b[0m\u001b[1;33m=\u001b[0m\u001b[1;34m'simplex'\u001b[0m\u001b[1;33m)\u001b[0m\u001b[1;33m\u001b[0m\u001b[1;33m\u001b[0m\u001b[0m\n\u001b[0m\u001b[0;32m     20\u001b[0m \u001b[1;33m\u001b[0m\u001b[0m\n\u001b[0;32m     21\u001b[0m \u001b[1;31m#     plt.title('Aproximación a la ecuación {0}'.format(orf))\u001b[0m\u001b[1;33m\u001b[0m\u001b[1;33m\u001b[0m\u001b[1;33m\u001b[0m\u001b[0m\n",
      "\u001b[1;32m~\\anaconda3\\lib\\site-packages\\scipy\\optimize\\_linprog.py\u001b[0m in \u001b[0;36mlinprog\u001b[1;34m(c, A_ub, b_ub, A_eq, b_eq, bounds, method, callback, options, x0)\u001b[0m\n\u001b[0;32m    513\u001b[0m \u001b[1;33m\u001b[0m\u001b[0m\n\u001b[0;32m    514\u001b[0m     \u001b[0mlp\u001b[0m \u001b[1;33m=\u001b[0m \u001b[0m_LPProblem\u001b[0m\u001b[1;33m(\u001b[0m\u001b[0mc\u001b[0m\u001b[1;33m,\u001b[0m \u001b[0mA_ub\u001b[0m\u001b[1;33m,\u001b[0m \u001b[0mb_ub\u001b[0m\u001b[1;33m,\u001b[0m \u001b[0mA_eq\u001b[0m\u001b[1;33m,\u001b[0m \u001b[0mb_eq\u001b[0m\u001b[1;33m,\u001b[0m \u001b[0mbounds\u001b[0m\u001b[1;33m,\u001b[0m \u001b[0mx0\u001b[0m\u001b[1;33m)\u001b[0m\u001b[1;33m\u001b[0m\u001b[1;33m\u001b[0m\u001b[0m\n\u001b[1;32m--> 515\u001b[1;33m     \u001b[0mlp\u001b[0m\u001b[1;33m,\u001b[0m \u001b[0msolver_options\u001b[0m \u001b[1;33m=\u001b[0m \u001b[0m_parse_linprog\u001b[0m\u001b[1;33m(\u001b[0m\u001b[0mlp\u001b[0m\u001b[1;33m,\u001b[0m \u001b[0moptions\u001b[0m\u001b[1;33m)\u001b[0m\u001b[1;33m\u001b[0m\u001b[1;33m\u001b[0m\u001b[0m\n\u001b[0m\u001b[0;32m    516\u001b[0m     \u001b[0mtol\u001b[0m \u001b[1;33m=\u001b[0m \u001b[0msolver_options\u001b[0m\u001b[1;33m.\u001b[0m\u001b[0mget\u001b[0m\u001b[1;33m(\u001b[0m\u001b[1;34m'tol'\u001b[0m\u001b[1;33m,\u001b[0m \u001b[1;36m1e-9\u001b[0m\u001b[1;33m)\u001b[0m\u001b[1;33m\u001b[0m\u001b[1;33m\u001b[0m\u001b[0m\n\u001b[0;32m    517\u001b[0m \u001b[1;33m\u001b[0m\u001b[0m\n",
      "\u001b[1;32m~\\anaconda3\\lib\\site-packages\\scipy\\optimize\\_linprog_util.py\u001b[0m in \u001b[0;36m_parse_linprog\u001b[1;34m(lp, options)\u001b[0m\n\u001b[0;32m    932\u001b[0m     \u001b[0msolver_options\u001b[0m\u001b[1;33m,\u001b[0m \u001b[0mA_ub\u001b[0m\u001b[1;33m,\u001b[0m \u001b[0mA_eq\u001b[0m \u001b[1;33m=\u001b[0m \u001b[0m_check_sparse_inputs\u001b[0m\u001b[1;33m(\u001b[0m\u001b[0msolver_options\u001b[0m\u001b[1;33m,\u001b[0m \u001b[0mlp\u001b[0m\u001b[1;33m.\u001b[0m\u001b[0mA_ub\u001b[0m\u001b[1;33m,\u001b[0m \u001b[0mlp\u001b[0m\u001b[1;33m.\u001b[0m\u001b[0mA_eq\u001b[0m\u001b[1;33m)\u001b[0m\u001b[1;33m\u001b[0m\u001b[1;33m\u001b[0m\u001b[0m\n\u001b[0;32m    933\u001b[0m     \u001b[1;31m# Convert lists to numpy arrays, etc...\u001b[0m\u001b[1;33m\u001b[0m\u001b[1;33m\u001b[0m\u001b[1;33m\u001b[0m\u001b[0m\n\u001b[1;32m--> 934\u001b[1;33m     \u001b[0mlp\u001b[0m \u001b[1;33m=\u001b[0m \u001b[0m_clean_inputs\u001b[0m\u001b[1;33m(\u001b[0m\u001b[0mlp\u001b[0m\u001b[1;33m.\u001b[0m\u001b[0m_replace\u001b[0m\u001b[1;33m(\u001b[0m\u001b[0mA_ub\u001b[0m\u001b[1;33m=\u001b[0m\u001b[0mA_ub\u001b[0m\u001b[1;33m,\u001b[0m \u001b[0mA_eq\u001b[0m\u001b[1;33m=\u001b[0m\u001b[0mA_eq\u001b[0m\u001b[1;33m)\u001b[0m\u001b[1;33m)\u001b[0m\u001b[1;33m\u001b[0m\u001b[1;33m\u001b[0m\u001b[0m\n\u001b[0m\u001b[0;32m    935\u001b[0m     \u001b[1;32mreturn\u001b[0m \u001b[0mlp\u001b[0m\u001b[1;33m,\u001b[0m \u001b[0msolver_options\u001b[0m\u001b[1;33m\u001b[0m\u001b[1;33m\u001b[0m\u001b[0m\n\u001b[0;32m    936\u001b[0m \u001b[1;33m\u001b[0m\u001b[0m\n",
      "\u001b[1;32m~\\anaconda3\\lib\\site-packages\\scipy\\optimize\\_linprog_util.py\u001b[0m in \u001b[0;36m_clean_inputs\u001b[1;34m(lp)\u001b[0m\n\u001b[0;32m    322\u001b[0m         \u001b[0mn_eq\u001b[0m \u001b[1;33m=\u001b[0m \u001b[0mA_eq\u001b[0m\u001b[1;33m.\u001b[0m\u001b[0mshape\u001b[0m\u001b[1;33m[\u001b[0m\u001b[1;36m0\u001b[0m\u001b[1;33m]\u001b[0m\u001b[1;33m\u001b[0m\u001b[1;33m\u001b[0m\u001b[0m\n\u001b[0;32m    323\u001b[0m         \u001b[1;32mif\u001b[0m \u001b[0mlen\u001b[0m\u001b[1;33m(\u001b[0m\u001b[0mA_eq\u001b[0m\u001b[1;33m.\u001b[0m\u001b[0mshape\u001b[0m\u001b[1;33m)\u001b[0m \u001b[1;33m!=\u001b[0m \u001b[1;36m2\u001b[0m \u001b[1;32mor\u001b[0m \u001b[0mA_eq\u001b[0m\u001b[1;33m.\u001b[0m\u001b[0mshape\u001b[0m\u001b[1;33m[\u001b[0m\u001b[1;36m1\u001b[0m\u001b[1;33m]\u001b[0m \u001b[1;33m!=\u001b[0m \u001b[0mn_x\u001b[0m\u001b[1;33m:\u001b[0m\u001b[1;33m\u001b[0m\u001b[1;33m\u001b[0m\u001b[0m\n\u001b[1;32m--> 324\u001b[1;33m             raise ValueError(\n\u001b[0m\u001b[0;32m    325\u001b[0m                 \u001b[1;34m\"Invalid input for linprog: A_eq must have exactly two \"\u001b[0m\u001b[1;33m\u001b[0m\u001b[1;33m\u001b[0m\u001b[0m\n\u001b[0;32m    326\u001b[0m                 \u001b[1;34m\"dimensions, and the number of columns in A_eq must be \"\u001b[0m\u001b[1;33m\u001b[0m\u001b[1;33m\u001b[0m\u001b[0m\n",
      "\u001b[1;31mValueError\u001b[0m: Invalid input for linprog: A_eq must have exactly two dimensions, and the number of columns in A_eq must be equal to the size of c"
     ]
    }
   ],
   "source": [
    "import numpy as np\n",
    "import matplotlib.pyplot as plt\n",
    "from scipy.optimize import linprog\n",
    "# import warnings\n",
    "# warnings.filterwarnings('ignore')\n",
    "import sys\n",
    "\n",
    "\n",
    "def sol_Elevador(numero_Personas, numero_Elevadores, numero_Pisos, posicion_Personas, posicion_Elevadores):\n",
    "\n",
    "    \n",
    "    l = numero_Elevadores*numero_Personas\n",
    "    c = np.zeros(l)\n",
    "    for i,posP in enumerate(posicion_Personas):\n",
    "        c[i:i+numero_Elevadores] = np.abs(posicion_Elevadores - posP)\n",
    "    \n",
    "    A = np.zeros([l,l])\n",
    "    \n",
    "    for i in range(numero_Elevadores):\n",
    "        A[i:i+numero_]\n",
    "    \n",
    "    b = np.zeros()\n",
    "    b = np.ones(2*numero_Elevadores)\n",
    "    \n",
    "    \n",
    "    res = linprog(c, A_eq=A, b_eq=b, bounds=(0,1), method='simplex')\n",
    "\n",
    "#     plt.title('Aproximación a la ecuación {0}'.format(orf))\n",
    "#     plt.plot(xlist, ylist)\n",
    "#     plt.show()\n",
    "\n",
    "def printMenu():\n",
    "    print(\"\\n\")\n",
    "    print(\"~~~~~~~~~~~~~~~~~~~~~~~~~~~~~~~~~~~~~~~~~~~~~\")\n",
    "    print(\"1 - Solucionar problema del elevador\")\n",
    "    print(\"0 - Salir\")\n",
    "    print(\"~~~~~~~~~~~~~~~~~~~~~~~~~~~~~~~~~~~~~~~~~~~~~\")\n",
    "    \n",
    "    \n",
    "    \n",
    "def printElevador(numero_Personas, numero_Elevadores, numero_Pisos, posicion_Personas, posicion_Elevadores):\n",
    "    for i in reversed(range(1,numero_Pisos+1)):\n",
    "        \n",
    "        k = len(str(i))\n",
    "\n",
    "        if (i in posicion_Personas) and (i in posicion_Elevadores):\n",
    "            print( \"|\"+'-'*14 + \"| \\n\")\n",
    "            print( \"|\"+' '*5+str(i)+' '*(6-k) +'███' +\"| \\n\")\n",
    "            print( \"|\"+' ' +'●' +' '*9 +'███' +\"| \\n\")\n",
    "            print( \"|\"+ '¬█¬'  +' '*8 +'███' +\"| \\n\")\n",
    "            print( \"|\"+ ' '+ 'n'  +' '*9 +'███' + \"| \\n\")\n",
    "                \n",
    "        elif i in posicion_Personas:\n",
    "            print( \"|\"+'-'*14 + \"| \\n\")\n",
    "            print( \"|\"+' '*5+str(i)+' '*(9-k) + \"| \\n\")\n",
    "            print( \"|\"+' ' +'●' +' '*12 + \"| \\n\")\n",
    "            print( \"|\"+ '¬█¬'  +' '*11 + \"| \\n\")\n",
    "            print( \"|\"+ ' '+ 'n'  +' '*12 + \"| \\n\")  \n",
    "            \n",
    "        elif i in posicion_Elevadores:\n",
    "            print( \"|\"+'-'*14 + \"| \\n\")\n",
    "            print( \"|\"+' '*5+str(i)+' '*(6-k) +'███' +\"| \\n\")\n",
    "            print( \"|\"+' '*11 +'███' +\"| \\n\")\n",
    "            print( \"|\"+' '*11 +'███' +\"| \\n\")\n",
    "            print( \"|\"+' '*11 +'███' + \"| \\n\")                \n",
    "                                           \n",
    "        else:\n",
    "            print( \"|\"+'-'*14 + \"| \\n\")\n",
    "            print( \"|\"+' '*5 +str(i) +' '*(9-k)+ \"| \\n\")\n",
    "            print( \"|\"+' '*14 + \"| \\n\")\n",
    "            print( \"|\"+' '*14 + \"| \\n\")\n",
    "            print( \"|\"+' '*14 + \"| \\n\")\n",
    "\n",
    "while True:\n",
    "    printMenu()\n",
    "    inputs = input('Seleccione una opción: ')\n",
    "    if int(inputs[0]) == 1:\n",
    "        numero_Elevadores = int(input(\"Ingrese el número de elevadores: \"))\n",
    "        numero_Personas = int(input(\"Ingrese el número de personas: \"))\n",
    "        numero_Pisos = int(input(\"Ingrese el número de pisos del edificio: \"))\n",
    "        \n",
    "        posicion_Personas = np.array([np.random.randint(0,numero_Pisos) for i in range(numero_Personas)])\n",
    "        posicion_Elevadores = np.array([np.random.randint(0,numero_Pisos) for i in range(numero_Elevadores)])\n",
    "        \n",
    "        printElevador(numero_Personas, numero_Elevadores, numero_Pisos, posicion_Personas, posicion_Elevadores)\n",
    "            \n",
    "        sol_Elevador(numero_Personas, numero_Elevadores, numero_Pisos, posicion_Personas, posicion_Elevadores)\n",
    "    else:\n",
    "        sys.exit(0)\n",
    "sys.exit(0)\n",
    "\n"
   ]
  },
  {
   "cell_type": "code",
   "execution_count": 3,
   "metadata": {},
   "outputs": [
    {
     "data": {
      "text/plain": [
       "3"
      ]
     },
     "execution_count": 3,
     "metadata": {},
     "output_type": "execute_result"
    }
   ],
   "source": [
    "numero_Elevadores"
   ]
  },
  {
   "cell_type": "code",
   "execution_count": 4,
   "metadata": {},
   "outputs": [
    {
     "data": {
      "text/plain": [
       "array([3, 2, 0])"
      ]
     },
     "execution_count": 4,
     "metadata": {},
     "output_type": "execute_result"
    }
   ],
   "source": [
    "posicion_Personas"
   ]
  },
  {
   "cell_type": "code",
   "execution_count": 31,
   "metadata": {},
   "outputs": [
    {
     "name": "stdout",
     "output_type": "stream",
     "text": [
      "0 0\n",
      "1 0\n",
      "2 2\n",
      "3 5\n"
     ]
    },
    {
     "ename": "ValueError",
     "evalue": "Invalid input for linprog: A_eq must have exactly two dimensions, and the number of columns in A_eq must be equal to the size of c",
     "output_type": "error",
     "traceback": [
      "\u001b[1;31m---------------------------------------------------------------------------\u001b[0m",
      "\u001b[1;31mValueError\u001b[0m                                Traceback (most recent call last)",
      "\u001b[1;32m<ipython-input-31-0e9d1e99fd75>\u001b[0m in \u001b[0;36m<module>\u001b[1;34m\u001b[0m\n\u001b[0;32m      8\u001b[0m \u001b[1;33m\u001b[0m\u001b[0m\n\u001b[0;32m      9\u001b[0m \u001b[1;33m\u001b[0m\u001b[0m\n\u001b[1;32m---> 10\u001b[1;33m \u001b[0mres\u001b[0m \u001b[1;33m=\u001b[0m \u001b[0mlinprog\u001b[0m\u001b[1;33m(\u001b[0m\u001b[0mc\u001b[0m\u001b[1;33m,\u001b[0m \u001b[0mA_eq\u001b[0m\u001b[1;33m=\u001b[0m\u001b[0mA\u001b[0m\u001b[1;33m,\u001b[0m \u001b[0mb_eq\u001b[0m\u001b[1;33m=\u001b[0m\u001b[0mb\u001b[0m\u001b[1;33m,\u001b[0m \u001b[0mbounds\u001b[0m\u001b[1;33m=\u001b[0m\u001b[1;33m(\u001b[0m\u001b[1;36m0\u001b[0m\u001b[1;33m,\u001b[0m\u001b[1;36m1\u001b[0m\u001b[1;33m)\u001b[0m\u001b[1;33m,\u001b[0m \u001b[0mmethod\u001b[0m\u001b[1;33m=\u001b[0m\u001b[1;34m'simplex'\u001b[0m\u001b[1;33m)\u001b[0m\u001b[1;33m\u001b[0m\u001b[1;33m\u001b[0m\u001b[0m\n\u001b[0m",
      "\u001b[1;32m~\\anaconda3\\lib\\site-packages\\scipy\\optimize\\_linprog.py\u001b[0m in \u001b[0;36mlinprog\u001b[1;34m(c, A_ub, b_ub, A_eq, b_eq, bounds, method, callback, options, x0)\u001b[0m\n\u001b[0;32m    513\u001b[0m \u001b[1;33m\u001b[0m\u001b[0m\n\u001b[0;32m    514\u001b[0m     \u001b[0mlp\u001b[0m \u001b[1;33m=\u001b[0m \u001b[0m_LPProblem\u001b[0m\u001b[1;33m(\u001b[0m\u001b[0mc\u001b[0m\u001b[1;33m,\u001b[0m \u001b[0mA_ub\u001b[0m\u001b[1;33m,\u001b[0m \u001b[0mb_ub\u001b[0m\u001b[1;33m,\u001b[0m \u001b[0mA_eq\u001b[0m\u001b[1;33m,\u001b[0m \u001b[0mb_eq\u001b[0m\u001b[1;33m,\u001b[0m \u001b[0mbounds\u001b[0m\u001b[1;33m,\u001b[0m \u001b[0mx0\u001b[0m\u001b[1;33m)\u001b[0m\u001b[1;33m\u001b[0m\u001b[1;33m\u001b[0m\u001b[0m\n\u001b[1;32m--> 515\u001b[1;33m     \u001b[0mlp\u001b[0m\u001b[1;33m,\u001b[0m \u001b[0msolver_options\u001b[0m \u001b[1;33m=\u001b[0m \u001b[0m_parse_linprog\u001b[0m\u001b[1;33m(\u001b[0m\u001b[0mlp\u001b[0m\u001b[1;33m,\u001b[0m \u001b[0moptions\u001b[0m\u001b[1;33m)\u001b[0m\u001b[1;33m\u001b[0m\u001b[1;33m\u001b[0m\u001b[0m\n\u001b[0m\u001b[0;32m    516\u001b[0m     \u001b[0mtol\u001b[0m \u001b[1;33m=\u001b[0m \u001b[0msolver_options\u001b[0m\u001b[1;33m.\u001b[0m\u001b[0mget\u001b[0m\u001b[1;33m(\u001b[0m\u001b[1;34m'tol'\u001b[0m\u001b[1;33m,\u001b[0m \u001b[1;36m1e-9\u001b[0m\u001b[1;33m)\u001b[0m\u001b[1;33m\u001b[0m\u001b[1;33m\u001b[0m\u001b[0m\n\u001b[0;32m    517\u001b[0m \u001b[1;33m\u001b[0m\u001b[0m\n",
      "\u001b[1;32m~\\anaconda3\\lib\\site-packages\\scipy\\optimize\\_linprog_util.py\u001b[0m in \u001b[0;36m_parse_linprog\u001b[1;34m(lp, options)\u001b[0m\n\u001b[0;32m    932\u001b[0m     \u001b[0msolver_options\u001b[0m\u001b[1;33m,\u001b[0m \u001b[0mA_ub\u001b[0m\u001b[1;33m,\u001b[0m \u001b[0mA_eq\u001b[0m \u001b[1;33m=\u001b[0m \u001b[0m_check_sparse_inputs\u001b[0m\u001b[1;33m(\u001b[0m\u001b[0msolver_options\u001b[0m\u001b[1;33m,\u001b[0m \u001b[0mlp\u001b[0m\u001b[1;33m.\u001b[0m\u001b[0mA_ub\u001b[0m\u001b[1;33m,\u001b[0m \u001b[0mlp\u001b[0m\u001b[1;33m.\u001b[0m\u001b[0mA_eq\u001b[0m\u001b[1;33m)\u001b[0m\u001b[1;33m\u001b[0m\u001b[1;33m\u001b[0m\u001b[0m\n\u001b[0;32m    933\u001b[0m     \u001b[1;31m# Convert lists to numpy arrays, etc...\u001b[0m\u001b[1;33m\u001b[0m\u001b[1;33m\u001b[0m\u001b[1;33m\u001b[0m\u001b[0m\n\u001b[1;32m--> 934\u001b[1;33m     \u001b[0mlp\u001b[0m \u001b[1;33m=\u001b[0m \u001b[0m_clean_inputs\u001b[0m\u001b[1;33m(\u001b[0m\u001b[0mlp\u001b[0m\u001b[1;33m.\u001b[0m\u001b[0m_replace\u001b[0m\u001b[1;33m(\u001b[0m\u001b[0mA_ub\u001b[0m\u001b[1;33m=\u001b[0m\u001b[0mA_ub\u001b[0m\u001b[1;33m,\u001b[0m \u001b[0mA_eq\u001b[0m\u001b[1;33m=\u001b[0m\u001b[0mA_eq\u001b[0m\u001b[1;33m)\u001b[0m\u001b[1;33m)\u001b[0m\u001b[1;33m\u001b[0m\u001b[1;33m\u001b[0m\u001b[0m\n\u001b[0m\u001b[0;32m    935\u001b[0m     \u001b[1;32mreturn\u001b[0m \u001b[0mlp\u001b[0m\u001b[1;33m,\u001b[0m \u001b[0msolver_options\u001b[0m\u001b[1;33m\u001b[0m\u001b[1;33m\u001b[0m\u001b[0m\n\u001b[0;32m    936\u001b[0m \u001b[1;33m\u001b[0m\u001b[0m\n",
      "\u001b[1;32m~\\anaconda3\\lib\\site-packages\\scipy\\optimize\\_linprog_util.py\u001b[0m in \u001b[0;36m_clean_inputs\u001b[1;34m(lp)\u001b[0m\n\u001b[0;32m    322\u001b[0m         \u001b[0mn_eq\u001b[0m \u001b[1;33m=\u001b[0m \u001b[0mA_eq\u001b[0m\u001b[1;33m.\u001b[0m\u001b[0mshape\u001b[0m\u001b[1;33m[\u001b[0m\u001b[1;36m0\u001b[0m\u001b[1;33m]\u001b[0m\u001b[1;33m\u001b[0m\u001b[1;33m\u001b[0m\u001b[0m\n\u001b[0;32m    323\u001b[0m         \u001b[1;32mif\u001b[0m \u001b[0mlen\u001b[0m\u001b[1;33m(\u001b[0m\u001b[0mA_eq\u001b[0m\u001b[1;33m.\u001b[0m\u001b[0mshape\u001b[0m\u001b[1;33m)\u001b[0m \u001b[1;33m!=\u001b[0m \u001b[1;36m2\u001b[0m \u001b[1;32mor\u001b[0m \u001b[0mA_eq\u001b[0m\u001b[1;33m.\u001b[0m\u001b[0mshape\u001b[0m\u001b[1;33m[\u001b[0m\u001b[1;36m1\u001b[0m\u001b[1;33m]\u001b[0m \u001b[1;33m!=\u001b[0m \u001b[0mn_x\u001b[0m\u001b[1;33m:\u001b[0m\u001b[1;33m\u001b[0m\u001b[1;33m\u001b[0m\u001b[0m\n\u001b[1;32m--> 324\u001b[1;33m             raise ValueError(\n\u001b[0m\u001b[0;32m    325\u001b[0m                 \u001b[1;34m\"Invalid input for linprog: A_eq must have exactly two \"\u001b[0m\u001b[1;33m\u001b[0m\u001b[1;33m\u001b[0m\u001b[0m\n\u001b[0;32m    326\u001b[0m                 \u001b[1;34m\"dimensions, and the number of columns in A_eq must be \"\u001b[0m\u001b[1;33m\u001b[0m\u001b[1;33m\u001b[0m\u001b[0m\n",
      "\u001b[1;31mValueError\u001b[0m: Invalid input for linprog: A_eq must have exactly two dimensions, and the number of columns in A_eq must be equal to the size of c"
     ]
    }
   ],
   "source": [
    "    c = np.zeros(numero_Elevadores**2)\n",
    "    for i,posP in enumerate(posicion_Personas):\n",
    "        print(i,posP)\n",
    "        c[i:i+numero_Elevadores] = np.abs(posicion_Elevadores - posP)\n",
    "    \n",
    "    A = np.zeros([2*numero_Elevadores,2*numero_Elevadores])\n",
    "    b = np.ones(2*numero_Elevadores)\n",
    "    \n",
    "    \n",
    "    res = linprog(c, A_eq=A, b_eq=b, bounds=(0,1), method='simplex')"
   ]
  },
  {
   "cell_type": "code",
   "execution_count": 29,
   "metadata": {},
   "outputs": [
    {
     "data": {
      "text/plain": [
       "array([0., 0., 0.])"
      ]
     },
     "execution_count": 29,
     "metadata": {},
     "output_type": "execute_result"
    }
   ],
   "source": [
    "c[0:3]"
   ]
  },
  {
   "cell_type": "code",
   "execution_count": 54,
   "metadata": {},
   "outputs": [
    {
     "name": "stdout",
     "output_type": "stream",
     "text": [
      "2\n"
     ]
    }
   ],
   "source": [
    "print(len(str(10)))"
   ]
  },
  {
   "cell_type": "code",
   "execution_count": null,
   "metadata": {},
   "outputs": [],
   "source": []
  }
 ],
 "metadata": {
  "kernelspec": {
   "display_name": "Python 3",
   "language": "python",
   "name": "python3"
  },
  "language_info": {
   "codemirror_mode": {
    "name": "ipython",
    "version": 3
   },
   "file_extension": ".py",
   "mimetype": "text/x-python",
   "name": "python",
   "nbconvert_exporter": "python",
   "pygments_lexer": "ipython3",
   "version": "3.8.3"
  }
 },
 "nbformat": 4,
 "nbformat_minor": 4
}
